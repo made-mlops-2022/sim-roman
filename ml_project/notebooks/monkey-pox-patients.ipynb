{
 "cells": [
  {
   "cell_type": "code",
   "execution_count": 55,
   "metadata": {
    "collapsed": true
   },
   "outputs": [],
   "source": [
    "import json\n",
    "\n",
    "import pandas as pd\n",
    "import numpy as np\n",
    "\n",
    "import pickle"
   ]
  },
  {
   "cell_type": "code",
   "execution_count": 15,
   "outputs": [
    {
     "data": {
      "text/plain": "  Patient_ID     Systemic Illness  Rectal Pain  Sore Throat  Penile Oedema  \\\n0         P0                 None        False         True           True   \n1         P1                Fever         True        False           True   \n2         P2                Fever        False         True           True   \n3         P3                 None         True        False          False   \n4         P4  Swollen Lymph Nodes         True         True           True   \n\n   Oral Lesions  Solitary Lesion  Swollen Tonsils  HIV Infection  \\\n0          True            False             True          False   \n1          True            False            False           True   \n2         False            False            False           True   \n3         False             True             True           True   \n4         False            False             True           True   \n\n   Sexually Transmitted Infection MonkeyPox  \n0                           False  Negative  \n1                           False  Positive  \n2                           False  Positive  \n3                           False  Positive  \n4                           False  Positive  ",
      "text/html": "<div>\n<style scoped>\n    .dataframe tbody tr th:only-of-type {\n        vertical-align: middle;\n    }\n\n    .dataframe tbody tr th {\n        vertical-align: top;\n    }\n\n    .dataframe thead th {\n        text-align: right;\n    }\n</style>\n<table border=\"1\" class=\"dataframe\">\n  <thead>\n    <tr style=\"text-align: right;\">\n      <th></th>\n      <th>Patient_ID</th>\n      <th>Systemic Illness</th>\n      <th>Rectal Pain</th>\n      <th>Sore Throat</th>\n      <th>Penile Oedema</th>\n      <th>Oral Lesions</th>\n      <th>Solitary Lesion</th>\n      <th>Swollen Tonsils</th>\n      <th>HIV Infection</th>\n      <th>Sexually Transmitted Infection</th>\n      <th>MonkeyPox</th>\n    </tr>\n  </thead>\n  <tbody>\n    <tr>\n      <th>0</th>\n      <td>P0</td>\n      <td>None</td>\n      <td>False</td>\n      <td>True</td>\n      <td>True</td>\n      <td>True</td>\n      <td>False</td>\n      <td>True</td>\n      <td>False</td>\n      <td>False</td>\n      <td>Negative</td>\n    </tr>\n    <tr>\n      <th>1</th>\n      <td>P1</td>\n      <td>Fever</td>\n      <td>True</td>\n      <td>False</td>\n      <td>True</td>\n      <td>True</td>\n      <td>False</td>\n      <td>False</td>\n      <td>True</td>\n      <td>False</td>\n      <td>Positive</td>\n    </tr>\n    <tr>\n      <th>2</th>\n      <td>P2</td>\n      <td>Fever</td>\n      <td>False</td>\n      <td>True</td>\n      <td>True</td>\n      <td>False</td>\n      <td>False</td>\n      <td>False</td>\n      <td>True</td>\n      <td>False</td>\n      <td>Positive</td>\n    </tr>\n    <tr>\n      <th>3</th>\n      <td>P3</td>\n      <td>None</td>\n      <td>True</td>\n      <td>False</td>\n      <td>False</td>\n      <td>False</td>\n      <td>True</td>\n      <td>True</td>\n      <td>True</td>\n      <td>False</td>\n      <td>Positive</td>\n    </tr>\n    <tr>\n      <th>4</th>\n      <td>P4</td>\n      <td>Swollen Lymph Nodes</td>\n      <td>True</td>\n      <td>True</td>\n      <td>True</td>\n      <td>False</td>\n      <td>False</td>\n      <td>True</td>\n      <td>True</td>\n      <td>False</td>\n      <td>Positive</td>\n    </tr>\n  </tbody>\n</table>\n</div>"
     },
     "execution_count": 15,
     "metadata": {},
     "output_type": "execute_result"
    }
   ],
   "source": [
    "raw_data_path = \"../data/raw/DATA.csv\"\n",
    "df = pd.read_csv(raw_data_path)\n",
    "df.head()"
   ],
   "metadata": {
    "collapsed": false,
    "pycharm": {
     "name": "#%%\n"
    }
   }
  },
  {
   "cell_type": "code",
   "execution_count": 16,
   "outputs": [
    {
     "data": {
      "text/plain": "<bound method DataFrame.info of       Patient_ID     Systemic Illness  Rectal Pain  Sore Throat  \\\n0             P0                 None        False         True   \n1             P1                Fever         True        False   \n2             P2                Fever        False         True   \n3             P3                 None         True        False   \n4             P4  Swollen Lymph Nodes         True         True   \n...          ...                  ...          ...          ...   \n24995     P24995                 None         True         True   \n24996     P24996                Fever        False         True   \n24997     P24997                 None         True         True   \n24998     P24998  Swollen Lymph Nodes        False         True   \n24999     P24999  Swollen Lymph Nodes        False        False   \n\n       Penile Oedema  Oral Lesions  Solitary Lesion  Swollen Tonsils  \\\n0               True          True            False             True   \n1               True          True            False            False   \n2               True         False            False            False   \n3              False         False             True             True   \n4               True         False            False             True   \n...              ...           ...              ...              ...   \n24995          False          True             True            False   \n24996           True         False             True             True   \n24997          False         False             True             True   \n24998          False          True             True             True   \n24999           True         False            False             True   \n\n       HIV Infection  Sexually Transmitted Infection MonkeyPox  \n0              False                           False  Negative  \n1               True                           False  Positive  \n2               True                           False  Positive  \n3               True                           False  Positive  \n4               True                           False  Positive  \n...              ...                             ...       ...  \n24995          False                            True  Positive  \n24996           True                            True  Positive  \n24997          False                           False  Positive  \n24998          False                           False  Negative  \n24999           True                           False  Positive  \n\n[25000 rows x 11 columns]>"
     },
     "execution_count": 16,
     "metadata": {},
     "output_type": "execute_result"
    }
   ],
   "source": [
    "df.info"
   ],
   "metadata": {
    "collapsed": false,
    "pycharm": {
     "name": "#%%\n"
    }
   }
  },
  {
   "cell_type": "code",
   "execution_count": 17,
   "outputs": [
    {
     "data": {
      "text/plain": "       Patient_ID Systemic Illness Rectal Pain Sore Throat Penile Oedema  \\\ncount       25000            25000       25000       25000         25000   \nunique      25000                4           2           2             2   \ntop         P6706            Fever       False        True          True   \nfreq            1             6382       12655       12554         12612   \n\n       Oral Lesions Solitary Lesion Swollen Tonsils HIV Infection  \\\ncount         25000           25000           25000         25000   \nunique            2               2               2             2   \ntop           False            True            True          True   \nfreq          12514           12527           12533         12584   \n\n       Sexually Transmitted Infection MonkeyPox  \ncount                           25000     25000  \nunique                              2         2  \ntop                             False  Positive  \nfreq                            12554     15909  ",
      "text/html": "<div>\n<style scoped>\n    .dataframe tbody tr th:only-of-type {\n        vertical-align: middle;\n    }\n\n    .dataframe tbody tr th {\n        vertical-align: top;\n    }\n\n    .dataframe thead th {\n        text-align: right;\n    }\n</style>\n<table border=\"1\" class=\"dataframe\">\n  <thead>\n    <tr style=\"text-align: right;\">\n      <th></th>\n      <th>Patient_ID</th>\n      <th>Systemic Illness</th>\n      <th>Rectal Pain</th>\n      <th>Sore Throat</th>\n      <th>Penile Oedema</th>\n      <th>Oral Lesions</th>\n      <th>Solitary Lesion</th>\n      <th>Swollen Tonsils</th>\n      <th>HIV Infection</th>\n      <th>Sexually Transmitted Infection</th>\n      <th>MonkeyPox</th>\n    </tr>\n  </thead>\n  <tbody>\n    <tr>\n      <th>count</th>\n      <td>25000</td>\n      <td>25000</td>\n      <td>25000</td>\n      <td>25000</td>\n      <td>25000</td>\n      <td>25000</td>\n      <td>25000</td>\n      <td>25000</td>\n      <td>25000</td>\n      <td>25000</td>\n      <td>25000</td>\n    </tr>\n    <tr>\n      <th>unique</th>\n      <td>25000</td>\n      <td>4</td>\n      <td>2</td>\n      <td>2</td>\n      <td>2</td>\n      <td>2</td>\n      <td>2</td>\n      <td>2</td>\n      <td>2</td>\n      <td>2</td>\n      <td>2</td>\n    </tr>\n    <tr>\n      <th>top</th>\n      <td>P6706</td>\n      <td>Fever</td>\n      <td>False</td>\n      <td>True</td>\n      <td>True</td>\n      <td>False</td>\n      <td>True</td>\n      <td>True</td>\n      <td>True</td>\n      <td>False</td>\n      <td>Positive</td>\n    </tr>\n    <tr>\n      <th>freq</th>\n      <td>1</td>\n      <td>6382</td>\n      <td>12655</td>\n      <td>12554</td>\n      <td>12612</td>\n      <td>12514</td>\n      <td>12527</td>\n      <td>12533</td>\n      <td>12584</td>\n      <td>12554</td>\n      <td>15909</td>\n    </tr>\n  </tbody>\n</table>\n</div>"
     },
     "execution_count": 17,
     "metadata": {},
     "output_type": "execute_result"
    }
   ],
   "source": [
    "df.describe()"
   ],
   "metadata": {
    "collapsed": false,
    "pycharm": {
     "name": "#%%\n"
    }
   }
  },
  {
   "cell_type": "code",
   "execution_count": 18,
   "outputs": [
    {
     "data": {
      "text/plain": "Patient_ID                        0\nSystemic Illness                  0\nRectal Pain                       0\nSore Throat                       0\nPenile Oedema                     0\nOral Lesions                      0\nSolitary Lesion                   0\nSwollen Tonsils                   0\nHIV Infection                     0\nSexually Transmitted Infection    0\nMonkeyPox                         0\ndtype: int64"
     },
     "execution_count": 18,
     "metadata": {},
     "output_type": "execute_result"
    }
   ],
   "source": [
    "df.isna().sum()"
   ],
   "metadata": {
    "collapsed": false,
    "pycharm": {
     "name": "#%%\n"
    }
   }
  },
  {
   "cell_type": "code",
   "execution_count": 19,
   "outputs": [
    {
     "data": {
      "text/plain": "Positive    15909\nNegative     9091\nName: MonkeyPox, dtype: int64"
     },
     "execution_count": 19,
     "metadata": {},
     "output_type": "execute_result"
    }
   ],
   "source": [
    "df[\"MonkeyPox\"].value_counts()"
   ],
   "metadata": {
    "collapsed": false,
    "pycharm": {
     "name": "#%%\n"
    }
   }
  },
  {
   "cell_type": "code",
   "execution_count": 20,
   "outputs": [
    {
     "name": "stdout",
     "output_type": "stream",
     "text": [
      "Patient_ID: ['P0' 'P1' 'P10' ... 'P9997' 'P9998' 'P9999']\n",
      "Systemic Illness: ['Fever' 'Muscle Aches and Pain' 'None' 'Swollen Lymph Nodes']\n",
      "Rectal Pain: [False  True]\n",
      "Sore Throat: [False  True]\n",
      "Penile Oedema: [False  True]\n",
      "Oral Lesions: [False  True]\n",
      "Solitary Lesion: [False  True]\n",
      "Swollen Tonsils: [False  True]\n",
      "HIV Infection: [False  True]\n",
      "Sexually Transmitted Infection: [False  True]\n",
      "MonkeyPox: ['Negative' 'Positive']\n"
     ]
    }
   ],
   "source": [
    "for column in df.columns:\n",
    "    print(f\"{column}: {np.unique(df[column])}\")"
   ],
   "metadata": {
    "collapsed": false,
    "pycharm": {
     "name": "#%%\n"
    }
   }
  },
  {
   "cell_type": "code",
   "execution_count": 21,
   "outputs": [
    {
     "data": {
      "text/plain": "Index(['Systemic Illness', 'Rectal Pain', 'Sore Throat', 'Penile Oedema',\n       'Oral Lesions', 'Solitary Lesion', 'Swollen Tonsils', 'HIV Infection',\n       'Sexually Transmitted Infection', 'MonkeyPox'],\n      dtype='object')"
     },
     "execution_count": 21,
     "metadata": {},
     "output_type": "execute_result"
    }
   ],
   "source": [
    "df.columns[1:]"
   ],
   "metadata": {
    "collapsed": false,
    "pycharm": {
     "name": "#%%\n"
    }
   }
  },
  {
   "cell_type": "code",
   "execution_count": 24,
   "outputs": [],
   "source": [
    "need_proccessing_columns = df.columns[1:]\n",
    "for column in need_proccessing_columns:\n",
    "    list_uniq_column = np.unique(df[column])\n",
    "    df[column].replace(list_uniq_column, [*range(len(list_uniq_column))], inplace=True)"
   ],
   "metadata": {
    "collapsed": false,
    "pycharm": {
     "name": "#%%\n"
    }
   }
  },
  {
   "cell_type": "code",
   "execution_count": 25,
   "outputs": [
    {
     "name": "stdout",
     "output_type": "stream",
     "text": [
      "Patient_ID: ['P0' 'P1' 'P10' ... 'P9997' 'P9998' 'P9999']\n",
      "Systemic Illness: [0 1 2 3]\n",
      "Rectal Pain: [0 1]\n",
      "Sore Throat: [0 1]\n",
      "Penile Oedema: [0 1]\n",
      "Oral Lesions: [0 1]\n",
      "Solitary Lesion: [0 1]\n",
      "Swollen Tonsils: [0 1]\n",
      "HIV Infection: [0 1]\n",
      "Sexually Transmitted Infection: [0 1]\n",
      "MonkeyPox: [0 1]\n"
     ]
    }
   ],
   "source": [
    "for column in df.columns:\n",
    "    print(f\"{column}: {np.unique(df[column])}\")"
   ],
   "metadata": {
    "collapsed": false,
    "pycharm": {
     "name": "#%%\n"
    }
   }
  },
  {
   "cell_type": "code",
   "execution_count": 26,
   "outputs": [],
   "source": [
    "df.drop([\"Patient_ID\"], axis=1, inplace=True)"
   ],
   "metadata": {
    "collapsed": false,
    "pycharm": {
     "name": "#%%\n"
    }
   }
  },
  {
   "cell_type": "code",
   "execution_count": 27,
   "outputs": [
    {
     "data": {
      "text/plain": "   Systemic Illness  Rectal Pain  Sore Throat  Penile Oedema  Oral Lesions  \\\n0                 2            0            1              1             1   \n1                 0            1            0              1             1   \n2                 0            0            1              1             0   \n3                 2            1            0              0             0   \n4                 3            1            1              1             0   \n\n   Solitary Lesion  Swollen Tonsils  HIV Infection  \\\n0                0                1              0   \n1                0                0              1   \n2                0                0              1   \n3                1                1              1   \n4                0                1              1   \n\n   Sexually Transmitted Infection  MonkeyPox  \n0                               0          0  \n1                               0          1  \n2                               0          1  \n3                               0          1  \n4                               0          1  ",
      "text/html": "<div>\n<style scoped>\n    .dataframe tbody tr th:only-of-type {\n        vertical-align: middle;\n    }\n\n    .dataframe tbody tr th {\n        vertical-align: top;\n    }\n\n    .dataframe thead th {\n        text-align: right;\n    }\n</style>\n<table border=\"1\" class=\"dataframe\">\n  <thead>\n    <tr style=\"text-align: right;\">\n      <th></th>\n      <th>Systemic Illness</th>\n      <th>Rectal Pain</th>\n      <th>Sore Throat</th>\n      <th>Penile Oedema</th>\n      <th>Oral Lesions</th>\n      <th>Solitary Lesion</th>\n      <th>Swollen Tonsils</th>\n      <th>HIV Infection</th>\n      <th>Sexually Transmitted Infection</th>\n      <th>MonkeyPox</th>\n    </tr>\n  </thead>\n  <tbody>\n    <tr>\n      <th>0</th>\n      <td>2</td>\n      <td>0</td>\n      <td>1</td>\n      <td>1</td>\n      <td>1</td>\n      <td>0</td>\n      <td>1</td>\n      <td>0</td>\n      <td>0</td>\n      <td>0</td>\n    </tr>\n    <tr>\n      <th>1</th>\n      <td>0</td>\n      <td>1</td>\n      <td>0</td>\n      <td>1</td>\n      <td>1</td>\n      <td>0</td>\n      <td>0</td>\n      <td>1</td>\n      <td>0</td>\n      <td>1</td>\n    </tr>\n    <tr>\n      <th>2</th>\n      <td>0</td>\n      <td>0</td>\n      <td>1</td>\n      <td>1</td>\n      <td>0</td>\n      <td>0</td>\n      <td>0</td>\n      <td>1</td>\n      <td>0</td>\n      <td>1</td>\n    </tr>\n    <tr>\n      <th>3</th>\n      <td>2</td>\n      <td>1</td>\n      <td>0</td>\n      <td>0</td>\n      <td>0</td>\n      <td>1</td>\n      <td>1</td>\n      <td>1</td>\n      <td>0</td>\n      <td>1</td>\n    </tr>\n    <tr>\n      <th>4</th>\n      <td>3</td>\n      <td>1</td>\n      <td>1</td>\n      <td>1</td>\n      <td>0</td>\n      <td>0</td>\n      <td>1</td>\n      <td>1</td>\n      <td>0</td>\n      <td>1</td>\n    </tr>\n  </tbody>\n</table>\n</div>"
     },
     "execution_count": 27,
     "metadata": {},
     "output_type": "execute_result"
    }
   ],
   "source": [
    "df.head()"
   ],
   "metadata": {
    "collapsed": false,
    "pycharm": {
     "name": "#%%\n"
    }
   }
  },
  {
   "cell_type": "code",
   "execution_count": 28,
   "outputs": [],
   "source": [
    "X = df.drop(['MonkeyPox'], axis = 1)\n",
    "y = df['MonkeyPox']"
   ],
   "metadata": {
    "collapsed": false,
    "pycharm": {
     "name": "#%%\n"
    }
   }
  },
  {
   "cell_type": "code",
   "execution_count": 29,
   "outputs": [],
   "source": [
    "from sklearn.model_selection import train_test_split\n",
    "\n",
    "X_train, X_test, y_train, y_test= train_test_split(X, y, test_size=0.2, random_state=0)"
   ],
   "metadata": {
    "collapsed": false,
    "pycharm": {
     "name": "#%%\n"
    }
   }
  },
  {
   "cell_type": "code",
   "execution_count": 31,
   "outputs": [],
   "source": [
    "from sklearn.compose import ColumnTransformer\n",
    "from sklearn.preprocessing import OneHotEncoder\n",
    "\n",
    "column: list = df.columns[:-1]\n",
    "transformer = ColumnTransformer([\n",
    "    ('One Hot', OneHotEncoder(), column)\n",
    "    ])"
   ],
   "metadata": {
    "collapsed": false,
    "pycharm": {
     "name": "#%%\n"
    }
   }
  },
  {
   "cell_type": "code",
   "execution_count": 41,
   "outputs": [],
   "source": [
    "from sklearn.linear_model import LogisticRegression\n",
    "from sklearn.tree import DecisionTreeClassifier\n",
    "from sklearn.neighbors import KNeighborsClassifier\n",
    "from sklearn.ensemble import RandomForestClassifier\n",
    "\n",
    "\n",
    "logreg = LogisticRegression()\n",
    "knn = KNeighborsClassifier()\n",
    "dt = DecisionTreeClassifier()\n",
    "rf = RandomForestClassifier()"
   ],
   "metadata": {
    "collapsed": false,
    "pycharm": {
     "name": "#%%\n"
    }
   }
  },
  {
   "cell_type": "code",
   "execution_count": 43,
   "outputs": [],
   "source": [
    "from sklearn.pipeline import Pipeline\n",
    "from sklearn.model_selection import StratifiedKFold\n",
    "from sklearn.model_selection import cross_val_score\n",
    "\n",
    "\n",
    "models = [logreg, knn, dt, rf]\n",
    "score=[]\n",
    "rata=[]\n",
    "std=[]\n",
    "\n",
    "for i in models:\n",
    "    skfold = StratifiedKFold(n_splits=5)\n",
    "    estimator=Pipeline([\n",
    "        ('preprocess', transformer),\n",
    "        ('model', i),\n",
    "    ])\n",
    "    model_cv=cross_val_score(estimator, X_train, y_train, cv=skfold, scoring='recall')\n",
    "    score.append(model_cv)\n",
    "    rata.append(model_cv.mean())\n",
    "    std.append(model_cv.std())"
   ],
   "metadata": {
    "collapsed": false,
    "pycharm": {
     "name": "#%%\n"
    }
   }
  },
  {
   "cell_type": "code",
   "execution_count": 52,
   "outputs": [
    {
     "data": {
      "text/plain": "                     Recall Score     stdev\nmodel                                      \nLogistic Regression      0.863733  0.007127\nRandom Forest            0.845658  0.006185\nDecision Tree            0.826012  0.006525\nKNN                      0.789941  0.007589",
      "text/html": "<div>\n<style scoped>\n    .dataframe tbody tr th:only-of-type {\n        vertical-align: middle;\n    }\n\n    .dataframe tbody tr th {\n        vertical-align: top;\n    }\n\n    .dataframe thead th {\n        text-align: right;\n    }\n</style>\n<table border=\"1\" class=\"dataframe\">\n  <thead>\n    <tr style=\"text-align: right;\">\n      <th></th>\n      <th>Recall Score</th>\n      <th>stdev</th>\n    </tr>\n    <tr>\n      <th>model</th>\n      <th></th>\n      <th></th>\n    </tr>\n  </thead>\n  <tbody>\n    <tr>\n      <th>Logistic Regression</th>\n      <td>0.863733</td>\n      <td>0.007127</td>\n    </tr>\n    <tr>\n      <th>Random Forest</th>\n      <td>0.845658</td>\n      <td>0.006185</td>\n    </tr>\n    <tr>\n      <th>Decision Tree</th>\n      <td>0.826012</td>\n      <td>0.006525</td>\n    </tr>\n    <tr>\n      <th>KNN</th>\n      <td>0.789941</td>\n      <td>0.007589</td>\n    </tr>\n  </tbody>\n</table>\n</div>"
     },
     "execution_count": 52,
     "metadata": {},
     "output_type": "execute_result"
    }
   ],
   "source": [
    "pd.DataFrame({'model': ['Logistic Regression',\n",
    "                        'KNN',\n",
    "                        'Decision Tree',\n",
    "                        'Random Forest',\n",
    "                        ],\n",
    "              'Recall Score' :rata,\n",
    "              'stdev' : std,\n",
    "}).set_index('model').sort_values(by='Recall Score',ascending=False)"
   ],
   "metadata": {
    "collapsed": false,
    "pycharm": {
     "name": "#%%\n"
    }
   }
  },
  {
   "cell_type": "code",
   "execution_count": 46,
   "outputs": [],
   "source": [
    "estimator=Pipeline([\n",
    "        ('preprocess', transformer),\n",
    "        ('model', logreg),\n",
    "])"
   ],
   "metadata": {
    "collapsed": false,
    "pycharm": {
     "name": "#%%\n"
    }
   }
  },
  {
   "cell_type": "code",
   "execution_count": 48,
   "outputs": [],
   "source": [
    "estimator.fit(X_train, y_train)\n",
    "y_pred = estimator.predict(X_test)"
   ],
   "metadata": {
    "collapsed": false,
    "pycharm": {
     "name": "#%%\n"
    }
   }
  },
  {
   "cell_type": "code",
   "execution_count": 50,
   "outputs": [
    {
     "name": "stdout",
     "output_type": "stream",
     "text": [
      "              precision    recall  f1-score   support\n",
      "\n",
      "           0       0.64      0.40      0.49      1816\n",
      "           1       0.72      0.87      0.79      3184\n",
      "\n",
      "    accuracy                           0.70      5000\n",
      "   macro avg       0.68      0.63      0.64      5000\n",
      "weighted avg       0.69      0.70      0.68      5000\n",
      "\n"
     ]
    }
   ],
   "source": [
    "from sklearn.metrics import classification_report\n",
    "\n",
    "print(classification_report(y_test, y_pred))"
   ],
   "metadata": {
    "collapsed": false,
    "pycharm": {
     "name": "#%%\n"
    }
   }
  },
  {
   "cell_type": "code",
   "execution_count": 59,
   "outputs": [],
   "source": [
    "from sklearn.metrics import roc_auc_score, accuracy_score, f1_score\n",
    "\n",
    "metrics = {}\n",
    "metrics[\"Roc|Auc\"] = roc_auc_score(y_test, y_pred)\n",
    "metrics[\"Accuracy\"] = accuracy_score(y_test, y_pred)\n",
    "metrics[\"F1\"] = f1_score(y_test, y_pred)"
   ],
   "metadata": {
    "collapsed": false,
    "pycharm": {
     "name": "#%%\n"
    }
   }
  },
  {
   "cell_type": "code",
   "execution_count": 60,
   "outputs": [],
   "source": [
    "with open(\"../models/LogisticRegression.pkl\", \"wb\") as f:\n",
    "    pickle.dump(estimator, f)\n",
    "with open(\"../models/LogisticRegression_metrics.json\", \"w\") as fm:\n",
    "    json.dump(metrics, fm)"
   ],
   "metadata": {
    "collapsed": false,
    "pycharm": {
     "name": "#%%\n"
    }
   }
  },
  {
   "cell_type": "code",
   "execution_count": 61,
   "outputs": [
    {
     "name": "stdout",
     "output_type": "stream",
     "text": [
      "- \"Systemic Illness\"\n",
      "- \"Rectal Pain\"\n",
      "- \"Sore Throat\"\n",
      "- \"Penile Oedema\"\n",
      "- \"Oral Lesions\"\n",
      "- \"Solitary Lesion\"\n",
      "- \"Swollen Tonsils\"\n",
      "- \"HIV Infection\"\n",
      "- \"Sexually Transmitted Infection\"\n",
      "- \"MonkeyPox\"\n"
     ]
    }
   ],
   "source": [
    "for i in df.columns:\n",
    "    print(f'- \"{i}\"')"
   ],
   "metadata": {
    "collapsed": false,
    "pycharm": {
     "name": "#%%\n"
    }
   }
  },
  {
   "cell_type": "code",
   "execution_count": null,
   "outputs": [],
   "source": [],
   "metadata": {
    "collapsed": false,
    "pycharm": {
     "name": "#%%\n"
    }
   }
  }
 ],
 "metadata": {
  "kernelspec": {
   "display_name": "Python 3",
   "language": "python",
   "name": "python3"
  },
  "language_info": {
   "codemirror_mode": {
    "name": "ipython",
    "version": 2
   },
   "file_extension": ".py",
   "mimetype": "text/x-python",
   "name": "python",
   "nbconvert_exporter": "python",
   "pygments_lexer": "ipython2",
   "version": "2.7.6"
  }
 },
 "nbformat": 4,
 "nbformat_minor": 0
}