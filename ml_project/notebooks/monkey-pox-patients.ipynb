{
 "cells": [
  {
   "cell_type": "code",
   "execution_count": 1,
   "metadata": {
    "collapsed": true
   },
   "outputs": [],
   "source": [
    "import os\n",
    "\n",
    "import pandas as pd\n",
    "import numpy as np\n",
    "import matplotlib.pyplot as plt\n",
    "import seaborn as sns\n",
    "%matplotlib inline\n",
    "\n",
    "from sklearn.linear_model import Ridge\n",
    "from sklearn.model_selection import train_test_split\n",
    "from sklearn.metrics import roc_auc_score, accuracy_score, f1_score"
   ]
  },
  {
   "cell_type": "code",
   "execution_count": 15,
   "outputs": [
    {
     "data": {
      "text/plain": "  Patient_ID     Systemic Illness  Rectal Pain  Sore Throat  Penile Oedema  \\\n0         P0                 None        False         True           True   \n1         P1                Fever         True        False           True   \n2         P2                Fever        False         True           True   \n3         P3                 None         True        False          False   \n4         P4  Swollen Lymph Nodes         True         True           True   \n\n   Oral Lesions  Solitary Lesion  Swollen Tonsils  HIV Infection  \\\n0          True            False             True          False   \n1          True            False            False           True   \n2         False            False            False           True   \n3         False             True             True           True   \n4         False            False             True           True   \n\n   Sexually Transmitted Infection MonkeyPox  \n0                           False  Negative  \n1                           False  Positive  \n2                           False  Positive  \n3                           False  Positive  \n4                           False  Positive  ",
      "text/html": "<div>\n<style scoped>\n    .dataframe tbody tr th:only-of-type {\n        vertical-align: middle;\n    }\n\n    .dataframe tbody tr th {\n        vertical-align: top;\n    }\n\n    .dataframe thead th {\n        text-align: right;\n    }\n</style>\n<table border=\"1\" class=\"dataframe\">\n  <thead>\n    <tr style=\"text-align: right;\">\n      <th></th>\n      <th>Patient_ID</th>\n      <th>Systemic Illness</th>\n      <th>Rectal Pain</th>\n      <th>Sore Throat</th>\n      <th>Penile Oedema</th>\n      <th>Oral Lesions</th>\n      <th>Solitary Lesion</th>\n      <th>Swollen Tonsils</th>\n      <th>HIV Infection</th>\n      <th>Sexually Transmitted Infection</th>\n      <th>MonkeyPox</th>\n    </tr>\n  </thead>\n  <tbody>\n    <tr>\n      <th>0</th>\n      <td>P0</td>\n      <td>None</td>\n      <td>False</td>\n      <td>True</td>\n      <td>True</td>\n      <td>True</td>\n      <td>False</td>\n      <td>True</td>\n      <td>False</td>\n      <td>False</td>\n      <td>Negative</td>\n    </tr>\n    <tr>\n      <th>1</th>\n      <td>P1</td>\n      <td>Fever</td>\n      <td>True</td>\n      <td>False</td>\n      <td>True</td>\n      <td>True</td>\n      <td>False</td>\n      <td>False</td>\n      <td>True</td>\n      <td>False</td>\n      <td>Positive</td>\n    </tr>\n    <tr>\n      <th>2</th>\n      <td>P2</td>\n      <td>Fever</td>\n      <td>False</td>\n      <td>True</td>\n      <td>True</td>\n      <td>False</td>\n      <td>False</td>\n      <td>False</td>\n      <td>True</td>\n      <td>False</td>\n      <td>Positive</td>\n    </tr>\n    <tr>\n      <th>3</th>\n      <td>P3</td>\n      <td>None</td>\n      <td>True</td>\n      <td>False</td>\n      <td>False</td>\n      <td>False</td>\n      <td>True</td>\n      <td>True</td>\n      <td>True</td>\n      <td>False</td>\n      <td>Positive</td>\n    </tr>\n    <tr>\n      <th>4</th>\n      <td>P4</td>\n      <td>Swollen Lymph Nodes</td>\n      <td>True</td>\n      <td>True</td>\n      <td>True</td>\n      <td>False</td>\n      <td>False</td>\n      <td>True</td>\n      <td>True</td>\n      <td>False</td>\n      <td>Positive</td>\n    </tr>\n  </tbody>\n</table>\n</div>"
     },
     "execution_count": 15,
     "metadata": {},
     "output_type": "execute_result"
    }
   ],
   "source": [
    "raw_data_path = \"../data/raw/DATA.csv\"\n",
    "df = pd.read_csv(raw_data_path)\n",
    "df.head()"
   ],
   "metadata": {
    "collapsed": false,
    "pycharm": {
     "name": "#%%\n"
    }
   }
  },
  {
   "cell_type": "code",
   "execution_count": 16,
   "outputs": [
    {
     "data": {
      "text/plain": "<bound method DataFrame.info of       Patient_ID     Systemic Illness  Rectal Pain  Sore Throat  \\\n0             P0                 None        False         True   \n1             P1                Fever         True        False   \n2             P2                Fever        False         True   \n3             P3                 None         True        False   \n4             P4  Swollen Lymph Nodes         True         True   \n...          ...                  ...          ...          ...   \n24995     P24995                 None         True         True   \n24996     P24996                Fever        False         True   \n24997     P24997                 None         True         True   \n24998     P24998  Swollen Lymph Nodes        False         True   \n24999     P24999  Swollen Lymph Nodes        False        False   \n\n       Penile Oedema  Oral Lesions  Solitary Lesion  Swollen Tonsils  \\\n0               True          True            False             True   \n1               True          True            False            False   \n2               True         False            False            False   \n3              False         False             True             True   \n4               True         False            False             True   \n...              ...           ...              ...              ...   \n24995          False          True             True            False   \n24996           True         False             True             True   \n24997          False         False             True             True   \n24998          False          True             True             True   \n24999           True         False            False             True   \n\n       HIV Infection  Sexually Transmitted Infection MonkeyPox  \n0              False                           False  Negative  \n1               True                           False  Positive  \n2               True                           False  Positive  \n3               True                           False  Positive  \n4               True                           False  Positive  \n...              ...                             ...       ...  \n24995          False                            True  Positive  \n24996           True                            True  Positive  \n24997          False                           False  Positive  \n24998          False                           False  Negative  \n24999           True                           False  Positive  \n\n[25000 rows x 11 columns]>"
     },
     "execution_count": 16,
     "metadata": {},
     "output_type": "execute_result"
    }
   ],
   "source": [
    "df.info"
   ],
   "metadata": {
    "collapsed": false,
    "pycharm": {
     "name": "#%%\n"
    }
   }
  },
  {
   "cell_type": "code",
   "execution_count": 17,
   "outputs": [
    {
     "data": {
      "text/plain": "       Patient_ID Systemic Illness Rectal Pain Sore Throat Penile Oedema  \\\ncount       25000            25000       25000       25000         25000   \nunique      25000                4           2           2             2   \ntop         P6706            Fever       False        True          True   \nfreq            1             6382       12655       12554         12612   \n\n       Oral Lesions Solitary Lesion Swollen Tonsils HIV Infection  \\\ncount         25000           25000           25000         25000   \nunique            2               2               2             2   \ntop           False            True            True          True   \nfreq          12514           12527           12533         12584   \n\n       Sexually Transmitted Infection MonkeyPox  \ncount                           25000     25000  \nunique                              2         2  \ntop                             False  Positive  \nfreq                            12554     15909  ",
      "text/html": "<div>\n<style scoped>\n    .dataframe tbody tr th:only-of-type {\n        vertical-align: middle;\n    }\n\n    .dataframe tbody tr th {\n        vertical-align: top;\n    }\n\n    .dataframe thead th {\n        text-align: right;\n    }\n</style>\n<table border=\"1\" class=\"dataframe\">\n  <thead>\n    <tr style=\"text-align: right;\">\n      <th></th>\n      <th>Patient_ID</th>\n      <th>Systemic Illness</th>\n      <th>Rectal Pain</th>\n      <th>Sore Throat</th>\n      <th>Penile Oedema</th>\n      <th>Oral Lesions</th>\n      <th>Solitary Lesion</th>\n      <th>Swollen Tonsils</th>\n      <th>HIV Infection</th>\n      <th>Sexually Transmitted Infection</th>\n      <th>MonkeyPox</th>\n    </tr>\n  </thead>\n  <tbody>\n    <tr>\n      <th>count</th>\n      <td>25000</td>\n      <td>25000</td>\n      <td>25000</td>\n      <td>25000</td>\n      <td>25000</td>\n      <td>25000</td>\n      <td>25000</td>\n      <td>25000</td>\n      <td>25000</td>\n      <td>25000</td>\n      <td>25000</td>\n    </tr>\n    <tr>\n      <th>unique</th>\n      <td>25000</td>\n      <td>4</td>\n      <td>2</td>\n      <td>2</td>\n      <td>2</td>\n      <td>2</td>\n      <td>2</td>\n      <td>2</td>\n      <td>2</td>\n      <td>2</td>\n      <td>2</td>\n    </tr>\n    <tr>\n      <th>top</th>\n      <td>P6706</td>\n      <td>Fever</td>\n      <td>False</td>\n      <td>True</td>\n      <td>True</td>\n      <td>False</td>\n      <td>True</td>\n      <td>True</td>\n      <td>True</td>\n      <td>False</td>\n      <td>Positive</td>\n    </tr>\n    <tr>\n      <th>freq</th>\n      <td>1</td>\n      <td>6382</td>\n      <td>12655</td>\n      <td>12554</td>\n      <td>12612</td>\n      <td>12514</td>\n      <td>12527</td>\n      <td>12533</td>\n      <td>12584</td>\n      <td>12554</td>\n      <td>15909</td>\n    </tr>\n  </tbody>\n</table>\n</div>"
     },
     "execution_count": 17,
     "metadata": {},
     "output_type": "execute_result"
    }
   ],
   "source": [
    "df.describe()"
   ],
   "metadata": {
    "collapsed": false,
    "pycharm": {
     "name": "#%%\n"
    }
   }
  },
  {
   "cell_type": "code",
   "execution_count": 18,
   "outputs": [
    {
     "data": {
      "text/plain": "Patient_ID                        0\nSystemic Illness                  0\nRectal Pain                       0\nSore Throat                       0\nPenile Oedema                     0\nOral Lesions                      0\nSolitary Lesion                   0\nSwollen Tonsils                   0\nHIV Infection                     0\nSexually Transmitted Infection    0\nMonkeyPox                         0\ndtype: int64"
     },
     "execution_count": 18,
     "metadata": {},
     "output_type": "execute_result"
    }
   ],
   "source": [
    "df.isna().sum()"
   ],
   "metadata": {
    "collapsed": false,
    "pycharm": {
     "name": "#%%\n"
    }
   }
  },
  {
   "cell_type": "code",
   "execution_count": 19,
   "outputs": [
    {
     "data": {
      "text/plain": "Positive    15909\nNegative     9091\nName: MonkeyPox, dtype: int64"
     },
     "execution_count": 19,
     "metadata": {},
     "output_type": "execute_result"
    }
   ],
   "source": [
    "df[\"MonkeyPox\"].value_counts()"
   ],
   "metadata": {
    "collapsed": false,
    "pycharm": {
     "name": "#%%\n"
    }
   }
  },
  {
   "cell_type": "code",
   "execution_count": 20,
   "outputs": [
    {
     "name": "stdout",
     "output_type": "stream",
     "text": [
      "Patient_ID: ['P0' 'P1' 'P10' ... 'P9997' 'P9998' 'P9999']\n",
      "Systemic Illness: ['Fever' 'Muscle Aches and Pain' 'None' 'Swollen Lymph Nodes']\n",
      "Rectal Pain: [False  True]\n",
      "Sore Throat: [False  True]\n",
      "Penile Oedema: [False  True]\n",
      "Oral Lesions: [False  True]\n",
      "Solitary Lesion: [False  True]\n",
      "Swollen Tonsils: [False  True]\n",
      "HIV Infection: [False  True]\n",
      "Sexually Transmitted Infection: [False  True]\n",
      "MonkeyPox: ['Negative' 'Positive']\n"
     ]
    }
   ],
   "source": [
    "for column in df.columns:\n",
    "    print(f\"{column}: {np.unique(df[column])}\")"
   ],
   "metadata": {
    "collapsed": false,
    "pycharm": {
     "name": "#%%\n"
    }
   }
  },
  {
   "cell_type": "code",
   "execution_count": 21,
   "outputs": [
    {
     "data": {
      "text/plain": "Index(['Systemic Illness', 'Rectal Pain', 'Sore Throat', 'Penile Oedema',\n       'Oral Lesions', 'Solitary Lesion', 'Swollen Tonsils', 'HIV Infection',\n       'Sexually Transmitted Infection', 'MonkeyPox'],\n      dtype='object')"
     },
     "execution_count": 21,
     "metadata": {},
     "output_type": "execute_result"
    }
   ],
   "source": [
    "df.columns[1:]"
   ],
   "metadata": {
    "collapsed": false,
    "pycharm": {
     "name": "#%%\n"
    }
   }
  },
  {
   "cell_type": "code",
   "execution_count": 24,
   "outputs": [],
   "source": [
    "need_proccessing_columns = df.columns[1:]\n",
    "for column in need_proccessing_columns:\n",
    "    list_uniq_column = np.unique(df[column])\n",
    "    df[column].replace(list_uniq_column, [*range(len(list_uniq_column))], inplace=True)"
   ],
   "metadata": {
    "collapsed": false,
    "pycharm": {
     "name": "#%%\n"
    }
   }
  },
  {
   "cell_type": "code",
   "execution_count": 25,
   "outputs": [
    {
     "name": "stdout",
     "output_type": "stream",
     "text": [
      "Patient_ID: ['P0' 'P1' 'P10' ... 'P9997' 'P9998' 'P9999']\n",
      "Systemic Illness: [0 1 2 3]\n",
      "Rectal Pain: [0 1]\n",
      "Sore Throat: [0 1]\n",
      "Penile Oedema: [0 1]\n",
      "Oral Lesions: [0 1]\n",
      "Solitary Lesion: [0 1]\n",
      "Swollen Tonsils: [0 1]\n",
      "HIV Infection: [0 1]\n",
      "Sexually Transmitted Infection: [0 1]\n",
      "MonkeyPox: [0 1]\n"
     ]
    }
   ],
   "source": [
    "for column in df.columns:\n",
    "    print(f\"{column}: {np.unique(df[column])}\")"
   ],
   "metadata": {
    "collapsed": false,
    "pycharm": {
     "name": "#%%\n"
    }
   }
  },
  {
   "cell_type": "code",
   "execution_count": 26,
   "outputs": [],
   "source": [
    "df.drop([\"Patient_ID\"], axis=1, inplace=True)"
   ],
   "metadata": {
    "collapsed": false,
    "pycharm": {
     "name": "#%%\n"
    }
   }
  },
  {
   "cell_type": "code",
   "execution_count": 27,
   "outputs": [
    {
     "data": {
      "text/plain": "   Systemic Illness  Rectal Pain  Sore Throat  Penile Oedema  Oral Lesions  \\\n0                 2            0            1              1             1   \n1                 0            1            0              1             1   \n2                 0            0            1              1             0   \n3                 2            1            0              0             0   \n4                 3            1            1              1             0   \n\n   Solitary Lesion  Swollen Tonsils  HIV Infection  \\\n0                0                1              0   \n1                0                0              1   \n2                0                0              1   \n3                1                1              1   \n4                0                1              1   \n\n   Sexually Transmitted Infection  MonkeyPox  \n0                               0          0  \n1                               0          1  \n2                               0          1  \n3                               0          1  \n4                               0          1  ",
      "text/html": "<div>\n<style scoped>\n    .dataframe tbody tr th:only-of-type {\n        vertical-align: middle;\n    }\n\n    .dataframe tbody tr th {\n        vertical-align: top;\n    }\n\n    .dataframe thead th {\n        text-align: right;\n    }\n</style>\n<table border=\"1\" class=\"dataframe\">\n  <thead>\n    <tr style=\"text-align: right;\">\n      <th></th>\n      <th>Systemic Illness</th>\n      <th>Rectal Pain</th>\n      <th>Sore Throat</th>\n      <th>Penile Oedema</th>\n      <th>Oral Lesions</th>\n      <th>Solitary Lesion</th>\n      <th>Swollen Tonsils</th>\n      <th>HIV Infection</th>\n      <th>Sexually Transmitted Infection</th>\n      <th>MonkeyPox</th>\n    </tr>\n  </thead>\n  <tbody>\n    <tr>\n      <th>0</th>\n      <td>2</td>\n      <td>0</td>\n      <td>1</td>\n      <td>1</td>\n      <td>1</td>\n      <td>0</td>\n      <td>1</td>\n      <td>0</td>\n      <td>0</td>\n      <td>0</td>\n    </tr>\n    <tr>\n      <th>1</th>\n      <td>0</td>\n      <td>1</td>\n      <td>0</td>\n      <td>1</td>\n      <td>1</td>\n      <td>0</td>\n      <td>0</td>\n      <td>1</td>\n      <td>0</td>\n      <td>1</td>\n    </tr>\n    <tr>\n      <th>2</th>\n      <td>0</td>\n      <td>0</td>\n      <td>1</td>\n      <td>1</td>\n      <td>0</td>\n      <td>0</td>\n      <td>0</td>\n      <td>1</td>\n      <td>0</td>\n      <td>1</td>\n    </tr>\n    <tr>\n      <th>3</th>\n      <td>2</td>\n      <td>1</td>\n      <td>0</td>\n      <td>0</td>\n      <td>0</td>\n      <td>1</td>\n      <td>1</td>\n      <td>1</td>\n      <td>0</td>\n      <td>1</td>\n    </tr>\n    <tr>\n      <th>4</th>\n      <td>3</td>\n      <td>1</td>\n      <td>1</td>\n      <td>1</td>\n      <td>0</td>\n      <td>0</td>\n      <td>1</td>\n      <td>1</td>\n      <td>0</td>\n      <td>1</td>\n    </tr>\n  </tbody>\n</table>\n</div>"
     },
     "execution_count": 27,
     "metadata": {},
     "output_type": "execute_result"
    }
   ],
   "source": [
    "df.head()"
   ],
   "metadata": {
    "collapsed": false,
    "pycharm": {
     "name": "#%%\n"
    }
   }
  },
  {
   "cell_type": "code",
   "execution_count": 28,
   "outputs": [],
   "source": [
    "X = df.drop(['MonkeyPox'],axis = 1)\n",
    "y = df['MonkeyPox']"
   ],
   "metadata": {
    "collapsed": false,
    "pycharm": {
     "name": "#%%\n"
    }
   }
  },
  {
   "cell_type": "code",
   "execution_count": 29,
   "outputs": [],
   "source": [
    "X_train, X_test, y_train, y_test= train_test_split(X, y, test_size=0.2, random_state=0)"
   ],
   "metadata": {
    "collapsed": false,
    "pycharm": {
     "name": "#%%\n"
    }
   }
  },
  {
   "cell_type": "code",
   "execution_count": null,
   "outputs": [],
   "source": [
    "from sklearn.compose import ColumnTransformer\n",
    "from sklearn.preprocessing import OneHotEncoder\n",
    "from sklearn.preprocessing import StandardScaler\n",
    "\n",
    "transformer = ColumnTransformer([\n",
    "    ('One Hot', OneHotEncoder(), column)\n",
    "    ])"
   ],
   "metadata": {
    "collapsed": false,
    "pycharm": {
     "name": "#%%\n"
    }
   }
  },
  {
   "cell_type": "code",
   "execution_count": 30,
   "outputs": [
    {
     "ename": "XGBoostError",
     "evalue": "\nXGBoost Library (libxgboost.dylib) could not be loaded.\nLikely causes:\n  * OpenMP runtime is not installed\n    - vcomp140.dll or libgomp-1.dll for Windows\n    - libomp.dylib for Mac OSX\n    - libgomp.so for Linux and other UNIX-like OSes\n    Mac OSX users: Run `brew install libomp` to install OpenMP runtime.\n\n  * You are running 32-bit Python on a 64-bit OS\n\nError message(s): [\"dlopen(/Users/romansim/Проекты/Технопарк/ML-разработчик/2 семестр/Машинное обучение в продакшен/homeworks/venv/lib/python3.6/site-packages/xgboost/lib/libxgboost.dylib, 0x0006): Library not loaded: '/usr/local/opt/libomp/lib/libomp.dylib'\\n  Referenced from: '/Users/romansim/Проекты/Технопарк/ML-разработчик/2 семестр/Машинное обучение в продакшен/homeworks/venv/lib/python3.6/site-packages/xgboost/lib/libxgboost.dylib'\\n  Reason: tried: '/usr/local/opt/libomp/lib/libomp.dylib' (no such file), '/usr/local/lib/libomp.dylib' (no such file), '/usr/lib/libomp.dylib' (no such file)\"]\n",
     "output_type": "error",
     "traceback": [
      "\u001B[0;31m---------------------------------------------------------------------------\u001B[0m",
      "\u001B[0;31mXGBoostError\u001B[0m                              Traceback (most recent call last)",
      "\u001B[0;32m<ipython-input-30-3e60848b3485>\u001B[0m in \u001B[0;36m<module>\u001B[0;34m\u001B[0m\n\u001B[1;32m      3\u001B[0m \u001B[0;32mfrom\u001B[0m \u001B[0msklearn\u001B[0m\u001B[0;34m.\u001B[0m\u001B[0mneighbors\u001B[0m \u001B[0;32mimport\u001B[0m \u001B[0mKNeighborsClassifier\u001B[0m\u001B[0;34m\u001B[0m\u001B[0;34m\u001B[0m\u001B[0m\n\u001B[1;32m      4\u001B[0m \u001B[0;32mfrom\u001B[0m \u001B[0msklearn\u001B[0m\u001B[0;34m.\u001B[0m\u001B[0mensemble\u001B[0m \u001B[0;32mimport\u001B[0m \u001B[0mRandomForestClassifier\u001B[0m\u001B[0;34m\u001B[0m\u001B[0;34m\u001B[0m\u001B[0m\n\u001B[0;32m----> 5\u001B[0;31m \u001B[0;32mfrom\u001B[0m \u001B[0mxgboost\u001B[0m \u001B[0;32mimport\u001B[0m \u001B[0mXGBClassifier\u001B[0m\u001B[0;34m\u001B[0m\u001B[0;34m\u001B[0m\u001B[0m\n\u001B[0m\u001B[1;32m      6\u001B[0m \u001B[0;32mimport\u001B[0m \u001B[0mlightgbm\u001B[0m \u001B[0;32mas\u001B[0m \u001B[0mlgb\u001B[0m\u001B[0;34m\u001B[0m\u001B[0;34m\u001B[0m\u001B[0m\n\u001B[1;32m      7\u001B[0m \u001B[0;34m\u001B[0m\u001B[0m\n",
      "\u001B[0;32m~/Проекты/Технопарк/ML-разработчик/2 семестр/Машинное обучение в продакшен/homeworks/venv/lib/python3.6/site-packages/xgboost/__init__.py\u001B[0m in \u001B[0;36m<module>\u001B[0;34m\u001B[0m\n\u001B[1;32m      7\u001B[0m \u001B[0;32mimport\u001B[0m \u001B[0mos\u001B[0m\u001B[0;34m\u001B[0m\u001B[0;34m\u001B[0m\u001B[0m\n\u001B[1;32m      8\u001B[0m \u001B[0;34m\u001B[0m\u001B[0m\n\u001B[0;32m----> 9\u001B[0;31m \u001B[0;32mfrom\u001B[0m \u001B[0;34m.\u001B[0m\u001B[0mcore\u001B[0m \u001B[0;32mimport\u001B[0m \u001B[0mDMatrix\u001B[0m\u001B[0;34m,\u001B[0m \u001B[0mDeviceQuantileDMatrix\u001B[0m\u001B[0;34m,\u001B[0m \u001B[0mBooster\u001B[0m\u001B[0;34m,\u001B[0m \u001B[0mDataIter\u001B[0m\u001B[0;34m\u001B[0m\u001B[0;34m\u001B[0m\u001B[0m\n\u001B[0m\u001B[1;32m     10\u001B[0m \u001B[0;32mfrom\u001B[0m \u001B[0;34m.\u001B[0m\u001B[0mtraining\u001B[0m \u001B[0;32mimport\u001B[0m \u001B[0mtrain\u001B[0m\u001B[0;34m,\u001B[0m \u001B[0mcv\u001B[0m\u001B[0;34m\u001B[0m\u001B[0;34m\u001B[0m\u001B[0m\n\u001B[1;32m     11\u001B[0m \u001B[0;32mfrom\u001B[0m \u001B[0;34m.\u001B[0m \u001B[0;32mimport\u001B[0m \u001B[0mrabit\u001B[0m  \u001B[0;31m# noqa\u001B[0m\u001B[0;34m\u001B[0m\u001B[0;34m\u001B[0m\u001B[0m\n",
      "\u001B[0;32m~/Проекты/Технопарк/ML-разработчик/2 семестр/Машинное обучение в продакшен/homeworks/venv/lib/python3.6/site-packages/xgboost/core.py\u001B[0m in \u001B[0;36m<module>\u001B[0;34m\u001B[0m\n\u001B[1;32m    201\u001B[0m \u001B[0;34m\u001B[0m\u001B[0m\n\u001B[1;32m    202\u001B[0m \u001B[0;31m# load the XGBoost library globally\u001B[0m\u001B[0;34m\u001B[0m\u001B[0;34m\u001B[0m\u001B[0;34m\u001B[0m\u001B[0m\n\u001B[0;32m--> 203\u001B[0;31m \u001B[0m_LIB\u001B[0m \u001B[0;34m=\u001B[0m \u001B[0m_load_lib\u001B[0m\u001B[0;34m(\u001B[0m\u001B[0;34m)\u001B[0m\u001B[0;34m\u001B[0m\u001B[0;34m\u001B[0m\u001B[0m\n\u001B[0m\u001B[1;32m    204\u001B[0m \u001B[0;34m\u001B[0m\u001B[0m\n\u001B[1;32m    205\u001B[0m \u001B[0;34m\u001B[0m\u001B[0m\n",
      "\u001B[0;32m~/Проекты/Технопарк/ML-разработчик/2 семестр/Машинное обучение в продакшен/homeworks/venv/lib/python3.6/site-packages/xgboost/core.py\u001B[0m in \u001B[0;36m_load_lib\u001B[0;34m()\u001B[0m\n\u001B[1;32m    192\u001B[0m \u001B[0;34m\u001B[0m\u001B[0m\n\u001B[1;32m    193\u001B[0m \u001B[0mError\u001B[0m \u001B[0mmessage\u001B[0m\u001B[0;34m(\u001B[0m\u001B[0ms\u001B[0m\u001B[0;34m)\u001B[0m\u001B[0;34m:\u001B[0m \u001B[0;34m{\u001B[0m\u001B[0mos_error_list\u001B[0m\u001B[0;34m}\u001B[0m\u001B[0;34m\u001B[0m\u001B[0;34m\u001B[0m\u001B[0m\n\u001B[0;32m--> 194\u001B[0;31m \"\"\")\n\u001B[0m\u001B[1;32m    195\u001B[0m     \u001B[0mlib\u001B[0m\u001B[0;34m.\u001B[0m\u001B[0mXGBGetLastError\u001B[0m\u001B[0;34m.\u001B[0m\u001B[0mrestype\u001B[0m \u001B[0;34m=\u001B[0m \u001B[0mctypes\u001B[0m\u001B[0;34m.\u001B[0m\u001B[0mc_char_p\u001B[0m\u001B[0;34m\u001B[0m\u001B[0;34m\u001B[0m\u001B[0m\n\u001B[1;32m    196\u001B[0m     \u001B[0mlib\u001B[0m\u001B[0;34m.\u001B[0m\u001B[0mcallback\u001B[0m \u001B[0;34m=\u001B[0m \u001B[0m_get_log_callback_func\u001B[0m\u001B[0;34m(\u001B[0m\u001B[0;34m)\u001B[0m\u001B[0;34m\u001B[0m\u001B[0;34m\u001B[0m\u001B[0m\n",
      "\u001B[0;31mXGBoostError\u001B[0m: \nXGBoost Library (libxgboost.dylib) could not be loaded.\nLikely causes:\n  * OpenMP runtime is not installed\n    - vcomp140.dll or libgomp-1.dll for Windows\n    - libomp.dylib for Mac OSX\n    - libgomp.so for Linux and other UNIX-like OSes\n    Mac OSX users: Run `brew install libomp` to install OpenMP runtime.\n\n  * You are running 32-bit Python on a 64-bit OS\n\nError message(s): [\"dlopen(/Users/romansim/Проекты/Технопарк/ML-разработчик/2 семестр/Машинное обучение в продакшен/homeworks/venv/lib/python3.6/site-packages/xgboost/lib/libxgboost.dylib, 0x0006): Library not loaded: '/usr/local/opt/libomp/lib/libomp.dylib'\\n  Referenced from: '/Users/romansim/Проекты/Технопарк/ML-разработчик/2 семестр/Машинное обучение в продакшен/homeworks/venv/lib/python3.6/site-packages/xgboost/lib/libxgboost.dylib'\\n  Reason: tried: '/usr/local/opt/libomp/lib/libomp.dylib' (no such file), '/usr/local/lib/libomp.dylib' (no such file), '/usr/lib/libomp.dylib' (no such file)\"]\n"
     ]
    }
   ],
   "source": [
    "from sklearn.linear_model import LogisticRegression\n",
    "from sklearn.tree import DecisionTreeClassifier\n",
    "from sklearn.neighbors import KNeighborsClassifier\n",
    "from sklearn.ensemble import RandomForestClassifier\n",
    "from xgboost import XGBClassifier\n",
    "import lightgbm as lgb\n",
    "\n",
    "logreg = LogisticRegression()\n",
    "knn = KNeighborsClassifier()\n",
    "dt = DecisionTreeClassifier()\n",
    "rf = RandomForestClassifier()\n",
    "xgb = XGBClassifier()\n",
    "lgbm = lgb.LGBMClassifier()"
   ],
   "metadata": {
    "collapsed": false,
    "pycharm": {
     "name": "#%%\n"
    }
   }
  },
  {
   "cell_type": "code",
   "execution_count": null,
   "outputs": [],
   "source": [],
   "metadata": {
    "collapsed": false,
    "pycharm": {
     "name": "#%%\n"
    }
   }
  }
 ],
 "metadata": {
  "kernelspec": {
   "display_name": "Python 3",
   "language": "python",
   "name": "python3"
  },
  "language_info": {
   "codemirror_mode": {
    "name": "ipython",
    "version": 2
   },
   "file_extension": ".py",
   "mimetype": "text/x-python",
   "name": "python",
   "nbconvert_exporter": "python",
   "pygments_lexer": "ipython2",
   "version": "2.7.6"
  }
 },
 "nbformat": 4,
 "nbformat_minor": 0
}